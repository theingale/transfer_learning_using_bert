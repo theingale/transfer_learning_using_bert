{
  "cells": [
    {
      "cell_type": "code",
      "execution_count": 1,
      "metadata": {
        "colab": {
          "base_uri": "https://localhost:8080/"
        },
        "id": "NUGbEZafwwzX",
        "outputId": "3c0664f9-ac49-4215-8f95-a77177222821"
      },
      "outputs": [
        {
          "name": "stdout",
          "output_type": "stream",
          "text": [
            "/usr/local/lib/python3.7/dist-packages/gdown/cli.py:131: FutureWarning: Option `--id` was deprecated in version 4.3.1 and will be removed in 5.0. You don't need to pass it anymore to use a file ID.\n",
            "  category=FutureWarning,\n",
            "Downloading...\n",
            "From: https://drive.google.com/uc?id=1GsD8JlAc_0yJ-1151LNr6rLw83RRUPgt\n",
            "To: /content/Reviews.csv\n",
            "100% 301M/301M [00:03<00:00, 86.2MB/s]\n",
            "/usr/local/lib/python3.7/dist-packages/gdown/cli.py:131: FutureWarning: Option `--id` was deprecated in version 4.3.1 and will be removed in 5.0. You don't need to pass it anymore to use a file ID.\n",
            "  category=FutureWarning,\n",
            "Downloading...\n",
            "From: https://drive.google.com/uc?id=13exfXiyiByluh1PfYK1EyZyizqxeCVG9\n",
            "To: /content/tokenization.py\n",
            "100% 17.3k/17.3k [00:00<00:00, 28.0MB/s]\n"
          ]
        }
      ],
      "source": [
        "# Downloading necessary files using gdown\n",
        "!gdown --id 1GsD8JlAc_0yJ-1151LNr6rLw83RRUPgt\n",
        "!gdown --id 13exfXiyiByluh1PfYK1EyZyizqxeCVG9"
      ]
    },
    {
      "cell_type": "code",
      "execution_count": 3,
      "metadata": {
        "id": "wOtG4cf0qVAZ"
      },
      "outputs": [],
      "source": [
        "#all imports\n",
        "import numpy as np\n",
        "import pandas as pd\n",
        "import re\n",
        "from tqdm import tqdm\n",
        "import tensorflow as tf\n",
        "import tensorflow_hub as hub\n",
        "from tensorflow.keras.models import Model"
      ]
    },
    {
      "cell_type": "code",
      "execution_count": 4,
      "metadata": {
        "colab": {
          "base_uri": "https://localhost:8080/",
          "height": 35
        },
        "id": "OcmiHdAJqVAi",
        "outputId": "47f2f93e-d9f2-4697-82dd-04d93c209e8b"
      },
      "outputs": [
        {
          "data": {
            "application/vnd.google.colaboratory.intrinsic+json": {
              "type": "string"
            },
            "text/plain": [
              "'/device:GPU:0'"
            ]
          },
          "execution_count": 4,
          "metadata": {},
          "output_type": "execute_result"
        }
      ],
      "source": [
        "tf.test.gpu_device_name()"
      ]
    },
    {
      "attachments": {},
      "cell_type": "markdown",
      "metadata": {
        "id": "ZTWRqbrBqVAu"
      },
      "source": [
        "<pre><font size=6>Part-1: Preprocessing</font></pre>"
      ]
    },
    {
      "cell_type": "code",
      "execution_count": 6,
      "metadata": {
        "colab": {
          "base_uri": "https://localhost:8080/"
        },
        "id": "B3csZKDrqVAv",
        "outputId": "0af6e456-5108-48a4-d93e-0884dc0b0dbd"
      },
      "outputs": [
        {
          "name": "stdout",
          "output_type": "stream",
          "text": [
            "<class 'pandas.core.frame.DataFrame'>\n",
            "RangeIndex: 568454 entries, 0 to 568453\n",
            "Data columns (total 10 columns):\n",
            " #   Column                  Non-Null Count   Dtype \n",
            "---  ------                  --------------   ----- \n",
            " 0   Id                      568454 non-null  int64 \n",
            " 1   ProductId               568454 non-null  object\n",
            " 2   UserId                  568454 non-null  object\n",
            " 3   ProfileName             568438 non-null  object\n",
            " 4   HelpfulnessNumerator    568454 non-null  int64 \n",
            " 5   HelpfulnessDenominator  568454 non-null  int64 \n",
            " 6   Score                   568454 non-null  int64 \n",
            " 7   Time                    568454 non-null  int64 \n",
            " 8   Summary                 568427 non-null  object\n",
            " 9   Text                    568454 non-null  object\n",
            "dtypes: int64(5), object(5)\n",
            "memory usage: 43.4+ MB\n"
          ]
        }
      ],
      "source": [
        "#Reading the dataset - Amazon fine food reviews\n",
        "reviews = pd.read_csv(r\"Reviews.csv\")\n",
        "#checking the info of the dataset\n",
        "reviews.info()"
      ]
    },
    {
      "cell_type": "code",
      "execution_count": 7,
      "metadata": {
        "colab": {
          "base_uri": "https://localhost:8080/",
          "height": 206
        },
        "id": "xokNn7qZqVAz",
        "outputId": "de8e81c5-d3fc-4d72-c861-0e028146beaf"
      },
      "outputs": [
        {
          "data": {
            "text/html": [
              "\n",
              "  <div id=\"df-fd586c52-aa25-4b99-9b2e-ad3b6df47c57\">\n",
              "    <div class=\"colab-df-container\">\n",
              "      <div>\n",
              "<style scoped>\n",
              "    .dataframe tbody tr th:only-of-type {\n",
              "        vertical-align: middle;\n",
              "    }\n",
              "\n",
              "    .dataframe tbody tr th {\n",
              "        vertical-align: top;\n",
              "    }\n",
              "\n",
              "    .dataframe thead th {\n",
              "        text-align: right;\n",
              "    }\n",
              "</style>\n",
              "<table border=\"1\" class=\"dataframe\">\n",
              "  <thead>\n",
              "    <tr style=\"text-align: right;\">\n",
              "      <th></th>\n",
              "      <th>Text</th>\n",
              "      <th>Score</th>\n",
              "    </tr>\n",
              "  </thead>\n",
              "  <tbody>\n",
              "    <tr>\n",
              "      <th>0</th>\n",
              "      <td>I have bought several of the Vitality canned d...</td>\n",
              "      <td>5</td>\n",
              "    </tr>\n",
              "    <tr>\n",
              "      <th>1</th>\n",
              "      <td>Product arrived labeled as Jumbo Salted Peanut...</td>\n",
              "      <td>1</td>\n",
              "    </tr>\n",
              "    <tr>\n",
              "      <th>2</th>\n",
              "      <td>This is a confection that has been around a fe...</td>\n",
              "      <td>4</td>\n",
              "    </tr>\n",
              "    <tr>\n",
              "      <th>3</th>\n",
              "      <td>If you are looking for the secret ingredient i...</td>\n",
              "      <td>2</td>\n",
              "    </tr>\n",
              "    <tr>\n",
              "      <th>4</th>\n",
              "      <td>Great taffy at a great price.  There was a wid...</td>\n",
              "      <td>5</td>\n",
              "    </tr>\n",
              "  </tbody>\n",
              "</table>\n",
              "</div>\n",
              "      <button class=\"colab-df-convert\" onclick=\"convertToInteractive('df-fd586c52-aa25-4b99-9b2e-ad3b6df47c57')\"\n",
              "              title=\"Convert this dataframe to an interactive table.\"\n",
              "              style=\"display:none;\">\n",
              "        \n",
              "  <svg xmlns=\"http://www.w3.org/2000/svg\" height=\"24px\"viewBox=\"0 0 24 24\"\n",
              "       width=\"24px\">\n",
              "    <path d=\"M0 0h24v24H0V0z\" fill=\"none\"/>\n",
              "    <path d=\"M18.56 5.44l.94 2.06.94-2.06 2.06-.94-2.06-.94-.94-2.06-.94 2.06-2.06.94zm-11 1L8.5 8.5l.94-2.06 2.06-.94-2.06-.94L8.5 2.5l-.94 2.06-2.06.94zm10 10l.94 2.06.94-2.06 2.06-.94-2.06-.94-.94-2.06-.94 2.06-2.06.94z\"/><path d=\"M17.41 7.96l-1.37-1.37c-.4-.4-.92-.59-1.43-.59-.52 0-1.04.2-1.43.59L10.3 9.45l-7.72 7.72c-.78.78-.78 2.05 0 2.83L4 21.41c.39.39.9.59 1.41.59.51 0 1.02-.2 1.41-.59l7.78-7.78 2.81-2.81c.8-.78.8-2.07 0-2.86zM5.41 20L4 18.59l7.72-7.72 1.47 1.35L5.41 20z\"/>\n",
              "  </svg>\n",
              "      </button>\n",
              "      \n",
              "  <style>\n",
              "    .colab-df-container {\n",
              "      display:flex;\n",
              "      flex-wrap:wrap;\n",
              "      gap: 12px;\n",
              "    }\n",
              "\n",
              "    .colab-df-convert {\n",
              "      background-color: #E8F0FE;\n",
              "      border: none;\n",
              "      border-radius: 50%;\n",
              "      cursor: pointer;\n",
              "      display: none;\n",
              "      fill: #1967D2;\n",
              "      height: 32px;\n",
              "      padding: 0 0 0 0;\n",
              "      width: 32px;\n",
              "    }\n",
              "\n",
              "    .colab-df-convert:hover {\n",
              "      background-color: #E2EBFA;\n",
              "      box-shadow: 0px 1px 2px rgba(60, 64, 67, 0.3), 0px 1px 3px 1px rgba(60, 64, 67, 0.15);\n",
              "      fill: #174EA6;\n",
              "    }\n",
              "\n",
              "    [theme=dark] .colab-df-convert {\n",
              "      background-color: #3B4455;\n",
              "      fill: #D2E3FC;\n",
              "    }\n",
              "\n",
              "    [theme=dark] .colab-df-convert:hover {\n",
              "      background-color: #434B5C;\n",
              "      box-shadow: 0px 1px 3px 1px rgba(0, 0, 0, 0.15);\n",
              "      filter: drop-shadow(0px 1px 2px rgba(0, 0, 0, 0.3));\n",
              "      fill: #FFFFFF;\n",
              "    }\n",
              "  </style>\n",
              "\n",
              "      <script>\n",
              "        const buttonEl =\n",
              "          document.querySelector('#df-fd586c52-aa25-4b99-9b2e-ad3b6df47c57 button.colab-df-convert');\n",
              "        buttonEl.style.display =\n",
              "          google.colab.kernel.accessAllowed ? 'block' : 'none';\n",
              "\n",
              "        async function convertToInteractive(key) {\n",
              "          const element = document.querySelector('#df-fd586c52-aa25-4b99-9b2e-ad3b6df47c57');\n",
              "          const dataTable =\n",
              "            await google.colab.kernel.invokeFunction('convertToInteractive',\n",
              "                                                     [key], {});\n",
              "          if (!dataTable) return;\n",
              "\n",
              "          const docLinkHtml = 'Like what you see? Visit the ' +\n",
              "            '<a target=\"_blank\" href=https://colab.research.google.com/notebooks/data_table.ipynb>data table notebook</a>'\n",
              "            + ' to learn more about interactive tables.';\n",
              "          element.innerHTML = '';\n",
              "          dataTable['output_type'] = 'display_data';\n",
              "          await google.colab.output.renderOutput(dataTable, element);\n",
              "          const docLink = document.createElement('div');\n",
              "          docLink.innerHTML = docLinkHtml;\n",
              "          element.appendChild(docLink);\n",
              "        }\n",
              "      </script>\n",
              "    </div>\n",
              "  </div>\n",
              "  "
            ],
            "text/plain": [
              "                                                Text  Score\n",
              "0  I have bought several of the Vitality canned d...      5\n",
              "1  Product arrived labeled as Jumbo Salted Peanut...      1\n",
              "2  This is a confection that has been around a fe...      4\n",
              "3  If you are looking for the secret ingredient i...      2\n",
              "4  Great taffy at a great price.  There was a wid...      5"
            ]
          },
          "execution_count": 7,
          "metadata": {},
          "output_type": "execute_result"
        }
      ],
      "source": [
        "#getting only 2 columns - Text, Score\n",
        "reviews = reviews.loc[:, ['Text', 'Score']]\n",
        "reviews.head(5)"
      ]
    },
    {
      "cell_type": "code",
      "execution_count": 8,
      "metadata": {
        "colab": {
          "base_uri": "https://localhost:8080/"
        },
        "id": "7NzGYuSfoagh",
        "outputId": "ec91a5cb-2cd2-48b9-ec3a-5ac2264d6d57"
      },
      "outputs": [
        {
          "data": {
            "text/plain": [
              "0"
            ]
          },
          "execution_count": 8,
          "metadata": {},
          "output_type": "execute_result"
        }
      ],
      "source": [
        "#checking the NAN values\n",
        "reviews.isnull().sum().sum()"
      ]
    },
    {
      "attachments": {},
      "cell_type": "markdown",
      "metadata": {
        "id": "6tpVbPUyrqX2"
      },
      "source": [
        "There are zero NAN or Null values in reviews dataframe."
      ]
    },
    {
      "cell_type": "code",
      "execution_count": 9,
      "metadata": {
        "colab": {
          "base_uri": "https://localhost:8080/",
          "height": 206
        },
        "id": "5GZt7pVkqVA4",
        "outputId": "ec686087-19f3-41a8-b470-a69be6ca0110"
      },
      "outputs": [
        {
          "data": {
            "text/html": [
              "\n",
              "  <div id=\"df-1070697e-c5e6-4683-a36b-581614fb3a95\">\n",
              "    <div class=\"colab-df-container\">\n",
              "      <div>\n",
              "<style scoped>\n",
              "    .dataframe tbody tr th:only-of-type {\n",
              "        vertical-align: middle;\n",
              "    }\n",
              "\n",
              "    .dataframe tbody tr th {\n",
              "        vertical-align: top;\n",
              "    }\n",
              "\n",
              "    .dataframe thead th {\n",
              "        text-align: right;\n",
              "    }\n",
              "</style>\n",
              "<table border=\"1\" class=\"dataframe\">\n",
              "  <thead>\n",
              "    <tr style=\"text-align: right;\">\n",
              "      <th></th>\n",
              "      <th>Text</th>\n",
              "      <th>Score</th>\n",
              "    </tr>\n",
              "  </thead>\n",
              "  <tbody>\n",
              "    <tr>\n",
              "      <th>0</th>\n",
              "      <td>I have bought several of the Vitality canned d...</td>\n",
              "      <td>1</td>\n",
              "    </tr>\n",
              "    <tr>\n",
              "      <th>1</th>\n",
              "      <td>Product arrived labeled as Jumbo Salted Peanut...</td>\n",
              "      <td>0</td>\n",
              "    </tr>\n",
              "    <tr>\n",
              "      <th>2</th>\n",
              "      <td>This is a confection that has been around a fe...</td>\n",
              "      <td>1</td>\n",
              "    </tr>\n",
              "    <tr>\n",
              "      <th>3</th>\n",
              "      <td>If you are looking for the secret ingredient i...</td>\n",
              "      <td>0</td>\n",
              "    </tr>\n",
              "    <tr>\n",
              "      <th>4</th>\n",
              "      <td>Great taffy at a great price.  There was a wid...</td>\n",
              "      <td>1</td>\n",
              "    </tr>\n",
              "  </tbody>\n",
              "</table>\n",
              "</div>\n",
              "      <button class=\"colab-df-convert\" onclick=\"convertToInteractive('df-1070697e-c5e6-4683-a36b-581614fb3a95')\"\n",
              "              title=\"Convert this dataframe to an interactive table.\"\n",
              "              style=\"display:none;\">\n",
              "        \n",
              "  <svg xmlns=\"http://www.w3.org/2000/svg\" height=\"24px\"viewBox=\"0 0 24 24\"\n",
              "       width=\"24px\">\n",
              "    <path d=\"M0 0h24v24H0V0z\" fill=\"none\"/>\n",
              "    <path d=\"M18.56 5.44l.94 2.06.94-2.06 2.06-.94-2.06-.94-.94-2.06-.94 2.06-2.06.94zm-11 1L8.5 8.5l.94-2.06 2.06-.94-2.06-.94L8.5 2.5l-.94 2.06-2.06.94zm10 10l.94 2.06.94-2.06 2.06-.94-2.06-.94-.94-2.06-.94 2.06-2.06.94z\"/><path d=\"M17.41 7.96l-1.37-1.37c-.4-.4-.92-.59-1.43-.59-.52 0-1.04.2-1.43.59L10.3 9.45l-7.72 7.72c-.78.78-.78 2.05 0 2.83L4 21.41c.39.39.9.59 1.41.59.51 0 1.02-.2 1.41-.59l7.78-7.78 2.81-2.81c.8-.78.8-2.07 0-2.86zM5.41 20L4 18.59l7.72-7.72 1.47 1.35L5.41 20z\"/>\n",
              "  </svg>\n",
              "      </button>\n",
              "      \n",
              "  <style>\n",
              "    .colab-df-container {\n",
              "      display:flex;\n",
              "      flex-wrap:wrap;\n",
              "      gap: 12px;\n",
              "    }\n",
              "\n",
              "    .colab-df-convert {\n",
              "      background-color: #E8F0FE;\n",
              "      border: none;\n",
              "      border-radius: 50%;\n",
              "      cursor: pointer;\n",
              "      display: none;\n",
              "      fill: #1967D2;\n",
              "      height: 32px;\n",
              "      padding: 0 0 0 0;\n",
              "      width: 32px;\n",
              "    }\n",
              "\n",
              "    .colab-df-convert:hover {\n",
              "      background-color: #E2EBFA;\n",
              "      box-shadow: 0px 1px 2px rgba(60, 64, 67, 0.3), 0px 1px 3px 1px rgba(60, 64, 67, 0.15);\n",
              "      fill: #174EA6;\n",
              "    }\n",
              "\n",
              "    [theme=dark] .colab-df-convert {\n",
              "      background-color: #3B4455;\n",
              "      fill: #D2E3FC;\n",
              "    }\n",
              "\n",
              "    [theme=dark] .colab-df-convert:hover {\n",
              "      background-color: #434B5C;\n",
              "      box-shadow: 0px 1px 3px 1px rgba(0, 0, 0, 0.15);\n",
              "      filter: drop-shadow(0px 1px 2px rgba(0, 0, 0, 0.3));\n",
              "      fill: #FFFFFF;\n",
              "    }\n",
              "  </style>\n",
              "\n",
              "      <script>\n",
              "        const buttonEl =\n",
              "          document.querySelector('#df-1070697e-c5e6-4683-a36b-581614fb3a95 button.colab-df-convert');\n",
              "        buttonEl.style.display =\n",
              "          google.colab.kernel.accessAllowed ? 'block' : 'none';\n",
              "\n",
              "        async function convertToInteractive(key) {\n",
              "          const element = document.querySelector('#df-1070697e-c5e6-4683-a36b-581614fb3a95');\n",
              "          const dataTable =\n",
              "            await google.colab.kernel.invokeFunction('convertToInteractive',\n",
              "                                                     [key], {});\n",
              "          if (!dataTable) return;\n",
              "\n",
              "          const docLinkHtml = 'Like what you see? Visit the ' +\n",
              "            '<a target=\"_blank\" href=https://colab.research.google.com/notebooks/data_table.ipynb>data table notebook</a>'\n",
              "            + ' to learn more about interactive tables.';\n",
              "          element.innerHTML = '';\n",
              "          dataTable['output_type'] = 'display_data';\n",
              "          await google.colab.output.renderOutput(dataTable, element);\n",
              "          const docLink = document.createElement('div');\n",
              "          docLink.innerHTML = docLinkHtml;\n",
              "          element.appendChild(docLink);\n",
              "        }\n",
              "      </script>\n",
              "    </div>\n",
              "  </div>\n",
              "  "
            ],
            "text/plain": [
              "                                                Text  Score\n",
              "0  I have bought several of the Vitality canned d...      1\n",
              "1  Product arrived labeled as Jumbo Salted Peanut...      0\n",
              "2  This is a confection that has been around a fe...      1\n",
              "3  If you are looking for the secret ingredient i...      0\n",
              "4  Great taffy at a great price.  There was a wid...      1"
            ]
          },
          "execution_count": 9,
          "metadata": {},
          "output_type": "execute_result"
        }
      ],
      "source": [
        "#if score<=2, set score = 0\n",
        "reviews['Score'] = np.where(reviews['Score'] <= 2, 0, reviews['Score'])\n",
        "#if score> 3, set score = 1\n",
        "reviews['Score'] = np.where(reviews['Score'] > 3, 1, reviews['Score'])\n",
        "#if score == 3, remove the rows. \n",
        "reviews.drop(reviews.loc[reviews['Score']==3].index, inplace=True)\n",
        "#Checking data\n",
        "reviews.head()"
      ]
    },
    {
      "cell_type": "code",
      "execution_count": 10,
      "metadata": {
        "colab": {
          "base_uri": "https://localhost:8080/"
        },
        "id": "E67FDFzMwHlB",
        "outputId": "f53eddda-5f81-47f4-9cc0-49bde28b5bbb"
      },
      "outputs": [
        {
          "data": {
            "text/plain": [
              "(525814, 2)"
            ]
          },
          "execution_count": 10,
          "metadata": {},
          "output_type": "execute_result"
        }
      ],
      "source": [
        "reviews.shape"
      ]
    },
    {
      "cell_type": "code",
      "execution_count": 12,
      "metadata": {
        "id": "xYZ-UB9UqVA-"
      },
      "outputs": [],
      "source": [
        "# Dropping reviews with word length more than 50 and sampling 0.1M reviews from dataframe\n",
        "def get_wordlen(x):\n",
        "    return len(x.split())\n",
        "reviews['len'] = reviews.Text.apply(get_wordlen)\n",
        "reviews = reviews[reviews.len<50]\n",
        "reviews = reviews.sample(n=100000, random_state=30)"
      ]
    },
    {
      "cell_type": "code",
      "execution_count": 13,
      "metadata": {
        "colab": {
          "base_uri": "https://localhost:8080/"
        },
        "id": "xjul8vXCw0er",
        "outputId": "dc79aba7-de01-4190-f039-15da61c99e9c"
      },
      "outputs": [
        {
          "data": {
            "text/plain": [
              "(100000, 3)"
            ]
          },
          "execution_count": 13,
          "metadata": {},
          "output_type": "execute_result"
        }
      ],
      "source": [
        "reviews.shape"
      ]
    },
    {
      "cell_type": "code",
      "execution_count": 14,
      "metadata": {
        "id": "CvldQriGqVBB"
      },
      "outputs": [],
      "source": [
        "#remove HTML from the Text column and save in the Text column only\n",
        "#Ref:https://stackoverflow.com/questions/9662346/python-code-to-remove-html-tags-from-a-string\n",
        "def remove_html(text):\n",
        "    clean_text = re.sub(r\"<.*?>\", '', text)\n",
        "    return clean_text\n",
        "\n",
        "reviews['Text'] = reviews.Text.apply(remove_html)"
      ]
    },
    {
      "cell_type": "code",
      "execution_count": 15,
      "metadata": {
        "colab": {
          "base_uri": "https://localhost:8080/",
          "height": 206
        },
        "id": "AhfN1s2mqVBD",
        "outputId": "13240238-a4d0-4789-f085-66495c2b580d"
      },
      "outputs": [
        {
          "data": {
            "text/html": [
              "\n",
              "  <div id=\"df-4157c2d6-aa8f-4719-945b-0a13e73db4b8\">\n",
              "    <div class=\"colab-df-container\">\n",
              "      <div>\n",
              "<style scoped>\n",
              "    .dataframe tbody tr th:only-of-type {\n",
              "        vertical-align: middle;\n",
              "    }\n",
              "\n",
              "    .dataframe tbody tr th {\n",
              "        vertical-align: top;\n",
              "    }\n",
              "\n",
              "    .dataframe thead th {\n",
              "        text-align: right;\n",
              "    }\n",
              "</style>\n",
              "<table border=\"1\" class=\"dataframe\">\n",
              "  <thead>\n",
              "    <tr style=\"text-align: right;\">\n",
              "      <th></th>\n",
              "      <th>Text</th>\n",
              "      <th>Score</th>\n",
              "      <th>len</th>\n",
              "    </tr>\n",
              "  </thead>\n",
              "  <tbody>\n",
              "    <tr>\n",
              "      <th>64117</th>\n",
              "      <td>The tea was of great quality and it tasted lik...</td>\n",
              "      <td>1</td>\n",
              "      <td>30</td>\n",
              "    </tr>\n",
              "    <tr>\n",
              "      <th>418112</th>\n",
              "      <td>My cat loves this.  The pellets are nice and s...</td>\n",
              "      <td>1</td>\n",
              "      <td>31</td>\n",
              "    </tr>\n",
              "    <tr>\n",
              "      <th>357829</th>\n",
              "      <td>Great product. Does not completely get rid of ...</td>\n",
              "      <td>1</td>\n",
              "      <td>41</td>\n",
              "    </tr>\n",
              "    <tr>\n",
              "      <th>175872</th>\n",
              "      <td>This gum is my favorite!  I would advise every...</td>\n",
              "      <td>1</td>\n",
              "      <td>27</td>\n",
              "    </tr>\n",
              "    <tr>\n",
              "      <th>178716</th>\n",
              "      <td>I also found out about this product because of...</td>\n",
              "      <td>1</td>\n",
              "      <td>22</td>\n",
              "    </tr>\n",
              "  </tbody>\n",
              "</table>\n",
              "</div>\n",
              "      <button class=\"colab-df-convert\" onclick=\"convertToInteractive('df-4157c2d6-aa8f-4719-945b-0a13e73db4b8')\"\n",
              "              title=\"Convert this dataframe to an interactive table.\"\n",
              "              style=\"display:none;\">\n",
              "        \n",
              "  <svg xmlns=\"http://www.w3.org/2000/svg\" height=\"24px\"viewBox=\"0 0 24 24\"\n",
              "       width=\"24px\">\n",
              "    <path d=\"M0 0h24v24H0V0z\" fill=\"none\"/>\n",
              "    <path d=\"M18.56 5.44l.94 2.06.94-2.06 2.06-.94-2.06-.94-.94-2.06-.94 2.06-2.06.94zm-11 1L8.5 8.5l.94-2.06 2.06-.94-2.06-.94L8.5 2.5l-.94 2.06-2.06.94zm10 10l.94 2.06.94-2.06 2.06-.94-2.06-.94-.94-2.06-.94 2.06-2.06.94z\"/><path d=\"M17.41 7.96l-1.37-1.37c-.4-.4-.92-.59-1.43-.59-.52 0-1.04.2-1.43.59L10.3 9.45l-7.72 7.72c-.78.78-.78 2.05 0 2.83L4 21.41c.39.39.9.59 1.41.59.51 0 1.02-.2 1.41-.59l7.78-7.78 2.81-2.81c.8-.78.8-2.07 0-2.86zM5.41 20L4 18.59l7.72-7.72 1.47 1.35L5.41 20z\"/>\n",
              "  </svg>\n",
              "      </button>\n",
              "      \n",
              "  <style>\n",
              "    .colab-df-container {\n",
              "      display:flex;\n",
              "      flex-wrap:wrap;\n",
              "      gap: 12px;\n",
              "    }\n",
              "\n",
              "    .colab-df-convert {\n",
              "      background-color: #E8F0FE;\n",
              "      border: none;\n",
              "      border-radius: 50%;\n",
              "      cursor: pointer;\n",
              "      display: none;\n",
              "      fill: #1967D2;\n",
              "      height: 32px;\n",
              "      padding: 0 0 0 0;\n",
              "      width: 32px;\n",
              "    }\n",
              "\n",
              "    .colab-df-convert:hover {\n",
              "      background-color: #E2EBFA;\n",
              "      box-shadow: 0px 1px 2px rgba(60, 64, 67, 0.3), 0px 1px 3px 1px rgba(60, 64, 67, 0.15);\n",
              "      fill: #174EA6;\n",
              "    }\n",
              "\n",
              "    [theme=dark] .colab-df-convert {\n",
              "      background-color: #3B4455;\n",
              "      fill: #D2E3FC;\n",
              "    }\n",
              "\n",
              "    [theme=dark] .colab-df-convert:hover {\n",
              "      background-color: #434B5C;\n",
              "      box-shadow: 0px 1px 3px 1px rgba(0, 0, 0, 0.15);\n",
              "      filter: drop-shadow(0px 1px 2px rgba(0, 0, 0, 0.3));\n",
              "      fill: #FFFFFF;\n",
              "    }\n",
              "  </style>\n",
              "\n",
              "      <script>\n",
              "        const buttonEl =\n",
              "          document.querySelector('#df-4157c2d6-aa8f-4719-945b-0a13e73db4b8 button.colab-df-convert');\n",
              "        buttonEl.style.display =\n",
              "          google.colab.kernel.accessAllowed ? 'block' : 'none';\n",
              "\n",
              "        async function convertToInteractive(key) {\n",
              "          const element = document.querySelector('#df-4157c2d6-aa8f-4719-945b-0a13e73db4b8');\n",
              "          const dataTable =\n",
              "            await google.colab.kernel.invokeFunction('convertToInteractive',\n",
              "                                                     [key], {});\n",
              "          if (!dataTable) return;\n",
              "\n",
              "          const docLinkHtml = 'Like what you see? Visit the ' +\n",
              "            '<a target=\"_blank\" href=https://colab.research.google.com/notebooks/data_table.ipynb>data table notebook</a>'\n",
              "            + ' to learn more about interactive tables.';\n",
              "          element.innerHTML = '';\n",
              "          dataTable['output_type'] = 'display_data';\n",
              "          await google.colab.output.renderOutput(dataTable, element);\n",
              "          const docLink = document.createElement('div');\n",
              "          docLink.innerHTML = docLinkHtml;\n",
              "          element.appendChild(docLink);\n",
              "        }\n",
              "      </script>\n",
              "    </div>\n",
              "  </div>\n",
              "  "
            ],
            "text/plain": [
              "                                                     Text  Score  len\n",
              "64117   The tea was of great quality and it tasted lik...      1   30\n",
              "418112  My cat loves this.  The pellets are nice and s...      1   31\n",
              "357829  Great product. Does not completely get rid of ...      1   41\n",
              "175872  This gum is my favorite!  I would advise every...      1   27\n",
              "178716  I also found out about this product because of...      1   22"
            ]
          },
          "execution_count": 15,
          "metadata": {},
          "output_type": "execute_result"
        }
      ],
      "source": [
        "#print head 5\n",
        "reviews.head()"
      ]
    },
    {
      "cell_type": "code",
      "execution_count": 16,
      "metadata": {
        "id": "Up-z5boWqVBK"
      },
      "outputs": [],
      "source": [
        "#saving to disk. if we need, we can load preprocessed data directly. \n",
        "reviews.to_csv('preprocessed.csv', index=False)"
      ]
    },
    {
      "cell_type": "code",
      "execution_count": 17,
      "metadata": {
        "id": "NsYDd3okqVBF"
      },
      "outputs": [],
      "source": [
        "#split the data into train and test data(20%) with Stratify sampling, random state 33\n",
        "X = reviews['Text']\n",
        "y = reviews['Score']\n",
        "\n",
        "from sklearn.model_selection import train_test_split\n",
        "X_train, X_test, y_train, y_test = train_test_split(X, y, stratify=y, test_size=0.2, random_state=33)"
      ]
    },
    {
      "cell_type": "code",
      "execution_count": 18,
      "metadata": {
        "colab": {
          "base_uri": "https://localhost:8080/",
          "height": 350
        },
        "id": "-Q6OAcrOqVBI",
        "outputId": "28e039aa-c241-488e-b279-0afa9d25b060"
      },
      "outputs": [
        {
          "data": {
            "image/png": "[encoded data removed]",
            "text/plain": [
              "<Figure size 360x360 with 1 Axes>"
            ]
          },
          "metadata": {
            "needs_background": "light"
          },
          "output_type": "display_data"
        }
      ],
      "source": [
        "#plot bar graphs of y_train and y_test\n",
        "%matplotlib inline\n",
        "import matplotlib.pyplot as plt\n",
        "u, c = np.unique(y_train, return_counts=True)\n",
        "fig = plt.figure(figsize=(5,5))\n",
        "plt.bar(u, c, width=0.5, color='orange')\n",
        "plt.xlabel(\"Label\")\n",
        "plt.ylabel(\"No of Reviews\")\n",
        "plt.title(\"y_train labels count\")\n",
        "plt.xticks([0, 1], [0, 1])\n",
        "plt.show()"
      ]
    },
    {
      "cell_type": "code",
      "execution_count": 19,
      "metadata": {
        "colab": {
          "base_uri": "https://localhost:8080/",
          "height": 350
        },
        "id": "Ge0GHGvS3ZZH",
        "outputId": "5c225161-1976-4563-dd64-a09d0ef89a04"
      },
      "outputs": [
        {
          "data": {
            "image/png": "[encoded data removed]",
            "text/plain": [
              "<Figure size 360x360 with 1 Axes>"
            ]
          },
          "metadata": {
            "needs_background": "light"
          },
          "output_type": "display_data"
        }
      ],
      "source": [
        "u, c = np.unique(y_test, return_counts=True)\n",
        "fig = plt.figure(figsize=(5,5))\n",
        "plt.bar(u, c, width=0.5)\n",
        "plt.xlabel(\"Label\")\n",
        "plt.ylabel(\"No of Reviews\")\n",
        "plt.title(\"y_test labels count\")\n",
        "plt.xticks([0, 1], [0, 1])\n",
        "plt.show()"
      ]
    },
    {
      "attachments": {},
      "cell_type": "markdown",
      "metadata": {
        "id": "bBtqNGN9qVBM"
      },
      "source": [
        "<pre><font size=6>Part-2: Creating BERT Model</font> \n",
        "\n",
        "If you want to know more about BERT, You can watch live sessions on Transformers and BERT. \n",
        "we will strongly recommend you to read <a href=\"https://jalammar.github.io/illustrated-transformer/\">Transformers</a>, <a href=\"https://arxiv.org/abs/1810.04805\">BERT Paper</a> and, <a href=\"https://jalammar.github.io/a-visual-guide-to-using-bert-for-the-first-time/\">This blog</a>.\n",
        "\n",
        "\n",
        "For this assignment, we are using <a href=\"https://tfhub.dev/tensorflow/bert_en_uncased_L-12_H-768_A-12/1\">BERT uncased Base model</a>. \n",
        "It uses L=12 hidden layers (i.e., Transformer blocks), a hidden size of H=768, and A=12 attention heads. </pre>"
      ]
    },
    {
      "cell_type": "code",
      "execution_count": 22,
      "metadata": {
        "id": "i8xd2HejqVBN"
      },
      "outputs": [],
      "source": [
        "## Loading the Pretrained Model from tensorflow HUB\n",
        "tf.keras.backend.clear_session()\n",
        "\n",
        "# maximum length of a seq in the data we have, for now i am making it as 55. You can change this\n",
        "max_seq_length = 55\n",
        "\n",
        "#BERT takes 3 inputs\n",
        "\n",
        "#this is input words. Sequence of words represented as integers\n",
        "input_word_ids = tf.keras.layers.Input(shape=(max_seq_length,), dtype=tf.int32, name=\"input_word_ids\")\n",
        "\n",
        "#mask vector if you are padding anything\n",
        "input_mask = tf.keras.layers.Input(shape=(max_seq_length,), dtype=tf.int32, name=\"input_mask\")\n",
        "\n",
        "#segment vectors. If you are giving only one sentence for the classification, total seg vector is 0. \n",
        "#If you are giving two sentenced with [sep] token separated, first seq segment vectors are zeros and \n",
        "#second seq segment vector are 1's\n",
        "segment_ids = tf.keras.layers.Input(shape=(max_seq_length,), dtype=tf.int32, name=\"segment_ids\")\n",
        "\n",
        "#bert layer \n",
        "# https://tfhub.dev/tensorflow/bert_en_uncased_L-12_H-768_A-12/4\n",
        "bert_layer = hub.KerasLayer(\"https://tfhub.dev/tensorflow/bert_en_uncased_L-12_H-768_A-12/1\", trainable=False)\n",
        "pooled_output, sequence_output = bert_layer([input_word_ids, input_mask, segment_ids])\n",
        "\n",
        "#Bert model\n",
        "#We are using only pooled output not sequence out. \n",
        "#If you want to know about those, please read https://www.kaggle.com/questions-and-answers/86510\n",
        "bert_model = Model(inputs=[input_word_ids, input_mask, segment_ids], outputs=pooled_output, name='bert_model')\n"
      ]
    },
    {
      "cell_type": "code",
      "execution_count": 23,
      "metadata": {
        "colab": {
          "base_uri": "https://localhost:8080/"
        },
        "id": "lQJsjg6fqVBQ",
        "outputId": "13be2611-197e-4b6d-b1c7-cc6640da9dbd"
      },
      "outputs": [
        {
          "name": "stdout",
          "output_type": "stream",
          "text": [
            "Model: \"bert_model\"\n",
            "__________________________________________________________________________________________________\n",
            " Layer (type)                   Output Shape         Param #     Connected to                     \n",
            "==================================================================================================\n",
            " input_word_ids (InputLayer)    [(None, 55)]         0           []                               \n",
            "                                                                                                  \n",
            " input_mask (InputLayer)        [(None, 55)]         0           []                               \n",
            "                                                                                                  \n",
            " segment_ids (InputLayer)       [(None, 55)]         0           []                               \n",
            "                                                                                                  \n",
            " keras_layer (KerasLayer)       [(None, 768),        109482241   ['input_word_ids[0][0]',         \n",
            "                                 (None, 55, 768)]                 'input_mask[0][0]',             \n",
            "                                                                  'segment_ids[0][0]']            \n",
            "                                                                                                  \n",
            "==================================================================================================\n",
            "Total params: 109,482,241\n",
            "Trainable params: 0\n",
            "Non-trainable params: 109,482,241\n",
            "__________________________________________________________________________________________________\n"
          ]
        }
      ],
      "source": [
        "bert_model.summary()"
      ]
    },
    {
      "cell_type": "code",
      "execution_count": 24,
      "metadata": {
        "colab": {
          "base_uri": "https://localhost:8080/"
        },
        "id": "w3z0OMA5qVBS",
        "outputId": "c411532c-fd1a-4249-c9e2-a8380b427162"
      },
      "outputs": [
        {
          "data": {
            "text/plain": [
              "<KerasTensor: shape=(None, 768) dtype=float32 (created by layer 'keras_layer')>"
            ]
          },
          "execution_count": 24,
          "metadata": {},
          "output_type": "execute_result"
        }
      ],
      "source": [
        "bert_model.output"
      ]
    },
    {
      "attachments": {},
      "cell_type": "markdown",
      "metadata": {
        "id": "Ewv4hFCsqVBU"
      },
      "source": [
        "<pre><font size=6>Part-3: Tokenization</font></pre>"
      ]
    },
    {
      "cell_type": "code",
      "execution_count": 25,
      "metadata": {
        "id": "tX3VEFjiqVBU"
      },
      "outputs": [],
      "source": [
        "#getting Vocab file\n",
        "vocab_file = bert_layer.resolved_object.vocab_file.asset_path.numpy()\n",
        "do_lower_case = bert_layer.resolved_object.do_lower_case.numpy()"
      ]
    },
    {
      "cell_type": "code",
      "execution_count": 26,
      "metadata": {
        "colab": {
          "base_uri": "https://localhost:8080/"
        },
        "id": "GHUFqWafAuon",
        "outputId": "23b88264-8905-41bb-90b0-6f49fb5afd13"
      },
      "outputs": [
        {
          "name": "stdout",
          "output_type": "stream",
          "text": [
            "Looking in indexes: https://pypi.org/simple, https://us-python.pkg.dev/colab-wheels/public/simple/\n",
            "Collecting sentencepiece\n",
            "  Downloading sentencepiece-0.1.96-cp37-cp37m-manylinux_2_17_x86_64.manylinux2014_x86_64.whl (1.2 MB)\n",
            "\u001b[K     |████████████████████████████████| 1.2 MB 5.1 MB/s \n",
            "\u001b[?25hInstalling collected packages: sentencepiece\n",
            "Successfully installed sentencepiece-0.1.96\n"
          ]
        }
      ],
      "source": [
        "# if you are getting error for sentencepiece module you can install it using below command while running this cell for the first time\n",
        "!pip install sentencepiece"
      ]
    },
    {
      "cell_type": "code",
      "execution_count": 27,
      "metadata": {
        "id": "Y_iPwa99qVBW"
      },
      "outputs": [],
      "source": [
        "import tokenization #We have given tokenization.py file"
      ]
    },
    {
      "cell_type": "code",
      "execution_count": 28,
      "metadata": {
        "id": "guJMLJ8bqVBY"
      },
      "outputs": [],
      "source": [
        "# Create tokenizer \" Instantiate FullTokenizer\" \n",
        "tokenizer=tokenization.FullTokenizer(vocab_file,do_lower_case )"
      ]
    },
    {
      "cell_type": "code",
      "execution_count": 65,
      "metadata": {
        "id": "9crhPylQqVBg"
      },
      "outputs": [],
      "source": [
        "# Create train and test tokens (X_train_tokens, X_test_tokens) from (X_train, X_test) using Tokenizer and \n",
        "X_train_tokens = [tokenizer.tokenize(sent) for sent in X_train]\n",
        "#X_train_tokens = np.asarray(X_train_tokens).reshape((80000,-1))\n",
        "\n",
        "X_test_tokens = [tokenizer.tokenize(sent) for sent in X_test]\n",
        "#X_test_tokens = np.asarray(X_test_tokens).reshape((20000,-1))\n",
        "\n",
        "# add '[CLS]' at start of the Tokens and '[SEP]' at the end of the tokens. \n",
        "\n",
        "# maximum number of tokens is 55(We already given this to BERT layer above) so shape is (None, 55)\n",
        "\n",
        "# if it is less than 55, add '[PAD]' token else truncate the tokens length.(similar to padding)\n",
        "\n",
        "# Based on padding, create the mask for Train and Test ( 1 for real token, 0 for '[PAD]'), \n",
        "# it will also same shape as input tokens (None, 55) save those in X_train_mask, X_test_mask\n",
        "\n",
        "\n",
        "def add_special_tokens_and_mask(data, max_seq_length):\n",
        "    ''' This function pads/truncates the input tokens adds special tokens [CLS]\n",
        "        [SEP][PAD] and also creates segment input.\n",
        "        \n",
        "        Input: data -> text data tokens\n",
        "        Returns: 3 numpy arrays -> data_tokens, data_mask, data_segments.'''\n",
        "    \n",
        "    data_tokens = []\n",
        "    data_mask = []\n",
        "    data_segments = []\n",
        "    for tokens in data:\n",
        "        if len(tokens) <= max_seq_length - 2:\n",
        "            lst = tokens\n",
        "            lst.insert(0, '[CLS]')\n",
        "            lst.append('[SEP]')\n",
        "            diff = max_seq_length - len(lst)\n",
        "            m1 = [1 for _ in range(len(lst))]\n",
        "            m0 = [0 for _ in range(diff)]\n",
        "            pad_lst = ('[PAD] ' * diff ).split()\n",
        "            lst.extend(pad_lst)\n",
        "            data_tokens.append(lst)\n",
        "            msk = np.append(m1, m0)\n",
        "            data_mask.append(msk)\n",
        "        else:\n",
        "            lst = tokens\n",
        "            lst = tokens[0:max_seq_length-2]\n",
        "            lst.insert(0, '[CLS]')\n",
        "            lst.append('[SEP]')\n",
        "            data_tokens.append(lst)\n",
        "            data_mask.append([1 for _ in range(max_seq_length)])\n",
        "        data_segments.append([0 for _ in range(max_seq_length)])\n",
        "    \n",
        "    data_tokens = [tokenizer.convert_tokens_to_ids(i) for i in data_tokens]\n",
        "    data_tokens = np.asarray(data_tokens).reshape(-1, max_seq_length)\n",
        "    data_mask = np.asarray(data_mask, dtype=np.int16).reshape(-1, max_seq_length)\n",
        "    data_segments = np.asarray(data_segments).reshape(-1, max_seq_length)\n",
        "    \n",
        "    return data_tokens, data_mask, data_segments\n",
        "\n",
        "\n",
        "# Create a segment input for train and test. We are using only one sentence so all zeros. This shape will also (None, 55)\n",
        "\n",
        "# type of all the above arrays should be numpy arrays\n",
        "\n",
        "# after execution of this cell, you have to get \n",
        "# X_train_tokens, X_train_mask, X_train_segment\n",
        "# X_test_tokens, X_test_mask, X_test_segment\n",
        "\n",
        "X_train_tokens, X_train_mask, X_train_segment = add_special_tokens_and_mask(X_train_tokens, max_seq_length=55)\n",
        "X_test_tokens, X_test_mask, X_test_segment = add_special_tokens_and_mask(X_test_tokens, max_seq_length=55)"
      ]
    },
    {
      "cell_type": "code",
      "execution_count": 31,
      "metadata": {
        "id": "dxhggBxwqVBj"
      },
      "outputs": [],
      "source": [
        "import pickle"
      ]
    },
    {
      "cell_type": "code",
      "execution_count": 32,
      "metadata": {
        "id": "xF0idMRDqVBm"
      },
      "outputs": [],
      "source": [
        "##save all your results to disk so that, no need to run all again. \n",
        "pickle.dump((X_train, X_train_tokens, X_train_mask, X_train_segment, y_train),open('train_data.pkl','wb'))\n",
        "pickle.dump((X_test, X_test_tokens, X_test_mask, X_test_segment, y_test),open('test_data.pkl','wb'))"
      ]
    },
    {
      "attachments": {},
      "cell_type": "markdown",
      "metadata": {
        "id": "SEj-Eua5qVBx"
      },
      "source": [
        "<pre><font size=6>Part-4: Getting Embeddings from BERT Model</font>\n",
        "We already created the BERT model in the part-2 and input data in the part-3. \n",
        "We will utlize those two and will get the embeddings for each sentence in the \n",
        "Train and test data.</pre>"
      ]
    },
    {
      "cell_type": "code",
      "execution_count": 35,
      "metadata": {
        "colab": {
          "base_uri": "https://localhost:8080/"
        },
        "id": "QwOVgQFDqVBy",
        "outputId": "6699d6bf-91d0-461e-f881-12d8db3d7c87"
      },
      "outputs": [
        {
          "data": {
            "text/plain": [
              "[<KerasTensor: shape=(None, 55) dtype=int32 (created by layer 'input_word_ids')>,\n",
              " <KerasTensor: shape=(None, 55) dtype=int32 (created by layer 'input_mask')>,\n",
              " <KerasTensor: shape=(None, 55) dtype=int32 (created by layer 'segment_ids')>]"
            ]
          },
          "execution_count": 35,
          "metadata": {},
          "output_type": "execute_result"
        }
      ],
      "source": [
        "bert_model.input"
      ]
    },
    {
      "cell_type": "code",
      "execution_count": 36,
      "metadata": {
        "colab": {
          "base_uri": "https://localhost:8080/"
        },
        "id": "ZcpkQq1OqVB0",
        "outputId": "aa649f91-5fd1-4d41-a162-2e6bf272ec45"
      },
      "outputs": [
        {
          "data": {
            "text/plain": [
              "<KerasTensor: shape=(None, 768) dtype=float32 (created by layer 'keras_layer')>"
            ]
          },
          "execution_count": 36,
          "metadata": {},
          "output_type": "execute_result"
        }
      ],
      "source": [
        "bert_model.output"
      ]
    },
    {
      "cell_type": "code",
      "execution_count": 37,
      "metadata": {
        "id": "IxdIlOIBlm7j"
      },
      "outputs": [],
      "source": [
        "# get the train output, BERT model will give one output so save in\n",
        "# X_train_pooled_output\n",
        "#this cell will take some time to execute, make sure thay you have stable internet connection\n",
        "X_train_pooled_output=bert_model.predict([X_train_tokens,X_train_mask,X_train_segment])"
      ]
    },
    {
      "cell_type": "code",
      "execution_count": 38,
      "metadata": {
        "id": "yZT11BCol4gL"
      },
      "outputs": [],
      "source": [
        "# get the test output, BERT model will give one output so save in\n",
        "# X_test_pooled_output\n",
        "X_test_pooled_output=bert_model.predict([X_test_tokens,X_test_mask,X_test_segment])"
      ]
    },
    {
      "cell_type": "code",
      "execution_count": 39,
      "metadata": {
        "id": "DL6JVojfqVB8"
      },
      "outputs": [],
      "source": [
        "##save all your results to disk so that, no need to run all again. \n",
        "pickle.dump((X_train_pooled_output, X_test_pooled_output),open('final_output.pkl','wb'))"
      ]
    },
    {
      "attachments": {},
      "cell_type": "markdown",
      "metadata": {
        "id": "oYwS1QbAqVCD"
      },
      "source": [
        "<pre><font size=6>Part-5: Training a NN with 768 features</font>\n",
        "\n",
        "Create a NN and train the NN. \n",
        "1.<b> You have to use AUC as metric. Do not use tf.keras.metrics.AUC</b> \n",
        "<b> You have to write custom code for AUC and print it at the end of each epoch</b> \n",
        "2. You can use any architecture you want. \n",
        "3. You have to use tensorboard to log all your metrics and Losses. You have to send those logs. \n",
        "4. Print the loss and metric at every epoch. \n",
        "5. You have to submit without overfitting and underfitting. \n",
        "</pre>"
      ]
    },
    {
      "cell_type": "code",
      "execution_count": 41,
      "metadata": {
        "id": "od8PQlYRqVCE"
      },
      "outputs": [],
      "source": [
        "##imports\n",
        "import tensorflow as tf\n",
        "from tensorflow.keras.layers import Input, Dense, Activation, Dropout, LSTM\n",
        "from tensorflow.keras.models import Model"
      ]
    },
    {
      "cell_type": "code",
      "execution_count": 49,
      "metadata": {
        "colab": {
          "base_uri": "https://localhost:8080/"
        },
        "id": "DSnmX3WnqVCG",
        "outputId": "1dba0db2-3ba3-4d8c-84c9-1990479fe8b6"
      },
      "outputs": [
        {
          "name": "stdout",
          "output_type": "stream",
          "text": [
            "Model: \"model_1\"\n",
            "_________________________________________________________________\n",
            " Layer (type)                Output Shape              Param #   \n",
            "=================================================================\n",
            " input_layer (InputLayer)    [(None, 768)]             0         \n",
            "                                                                 \n",
            " dense_1 (Dense)             (None, 256)               196864    \n",
            "                                                                 \n",
            " dense_2 (Dense)             (None, 128)               32896     \n",
            "                                                                 \n",
            " dense_3 (Dense)             (None, 64)                8256      \n",
            "                                                                 \n",
            " dense_4 (Dense)             (None, 16)                1040      \n",
            "                                                                 \n",
            " dense_5 (Dense)             (None, 8)                 136       \n",
            "                                                                 \n",
            " output_layer (Dense)        (None, 1)                 9         \n",
            "                                                                 \n",
            "=================================================================\n",
            "Total params: 239,201\n",
            "Trainable params: 239,201\n",
            "Non-trainable params: 0\n",
            "_________________________________________________________________\n"
          ]
        }
      ],
      "source": [
        "##create an Neural Network and train your model on X_train_pooled_output and y_train\n",
        "# you can start as follows\n",
        "\n",
        "input_layer=Input(shape=(X_train_pooled_output.shape[1],), name='input_layer')\n",
        "dense1 = Dense(256, activation='relu', name='dense_1')(input_layer)\n",
        "dense2 = Dense(128, activation='relu', name='dense_2')(dense1)\n",
        "dense3 = Dense(64, activation='relu', name='dense_3')(dense2)\n",
        "dense4 = Dense(16, activation='relu', name='dense_4')(dense3)\n",
        "dense5 = Dense(8, activation='relu', name='dense_5')(dense4)\n",
        "output_layer = Dense(1, activation='sigmoid', name='output_layer')(dense5)\n",
        "\n",
        "model = Model(inputs=input_layer, outputs=output_layer, name='model_1')\n",
        "model.summary()"
      ]
    },
    {
      "cell_type": "code",
      "execution_count": 43,
      "metadata": {
        "id": "HLqb1Kt3MlWC"
      },
      "outputs": [],
      "source": [
        "# Defining auc metric\n",
        "from sklearn.metrics import roc_auc_score\n",
        "\n",
        "def auc(y_true, y_pred):\n",
        "    return tf.py_function(roc_auc_score, [y_true, y_pred], tf.double, name='roc_auc')"
      ]
    },
    {
      "cell_type": "code",
      "execution_count": 44,
      "metadata": {
        "id": "p1OnD_R6c-sy"
      },
      "outputs": [],
      "source": [
        "import os\n",
        "from datetime import datetime"
      ]
    },
    {
      "cell_type": "code",
      "execution_count": 45,
      "metadata": {
        "id": "6Ij1swEDc6b8"
      },
      "outputs": [],
      "source": [
        "if 'model' not in os.listdir():\n",
        "   os.mkdir('model')\n",
        "   os.mkdir('model/saved_models/')\n",
        "   os.mkdir('model/tb_logs')\n",
        "\n",
        "save_path = 'model/saved_models/epoch_{epoch:02d}_val_auc_{val_auc:.4f}.hdf5' \n",
        "logs_path = 'model/tb_logs/'+ datetime.now().strftime(\"%HH%MM%SS\")"
      ]
    },
    {
      "cell_type": "code",
      "execution_count": 50,
      "metadata": {
        "id": "UeDD51YZci_u"
      },
      "outputs": [],
      "source": [
        "# Imprting necessary callbacks\n",
        "from tensorflow.keras.callbacks import ModelCheckpoint\n",
        "from tensorflow.keras.callbacks import EarlyStopping\n",
        "from tensorflow.keras.callbacks import TensorBoard\n",
        "\n",
        "saver = ModelCheckpoint(save_path, monitor='val_auc')\n",
        "stopper = EarlyStopping(monitor='val_loss', patience=5, mode='min')\n",
        "tb = TensorBoard(logs_path)\n",
        "callbacks = [saver, stopper, tb]"
      ]
    },
    {
      "cell_type": "code",
      "execution_count": 51,
      "metadata": {
        "colab": {
          "base_uri": "https://localhost:8080/"
        },
        "id": "tG37nXyVNKwu",
        "outputId": "e2f5bcd5-f747-4196-e3d8-ec1e1530951e"
      },
      "outputs": [
        {
          "name": "stdout",
          "output_type": "stream",
          "text": [
            "Epoch 1/50\n",
            "625/625 [==============================] - 4s 5ms/step - loss: 0.2587 - accuracy: 0.8937 - auc: 0.9014 - val_loss: 0.2015 - val_accuracy: 0.9169 - val_auc: 0.9374\n",
            "Epoch 2/50\n",
            "625/625 [==============================] - 3s 5ms/step - loss: 0.2060 - accuracy: 0.9145 - auc: 0.9452 - val_loss: 0.1964 - val_accuracy: 0.9215 - val_auc: 0.9417\n",
            "Epoch 3/50\n",
            "625/625 [==============================] - 3s 5ms/step - loss: 0.1935 - accuracy: 0.9197 - auc: 0.9498 - val_loss: 0.1822 - val_accuracy: 0.9272 - val_auc: 0.9472\n",
            "Epoch 4/50\n",
            "625/625 [==============================] - 3s 5ms/step - loss: 0.1870 - accuracy: 0.9238 - auc: 0.9525 - val_loss: 0.1803 - val_accuracy: 0.9275 - val_auc: 0.9488\n",
            "Epoch 5/50\n",
            "625/625 [==============================] - 3s 5ms/step - loss: 0.1868 - accuracy: 0.9235 - auc: 0.9541 - val_loss: 0.1781 - val_accuracy: 0.9286 - val_auc: 0.9497\n",
            "Epoch 6/50\n",
            "625/625 [==============================] - 3s 5ms/step - loss: 0.1851 - accuracy: 0.9249 - auc: 0.9555 - val_loss: 0.1938 - val_accuracy: 0.9181 - val_auc: 0.9504\n",
            "Epoch 7/50\n",
            "625/625 [==============================] - 3s 5ms/step - loss: 0.1815 - accuracy: 0.9258 - auc: 0.9560 - val_loss: 0.1762 - val_accuracy: 0.9298 - val_auc: 0.9514\n",
            "Epoch 8/50\n",
            "625/625 [==============================] - 3s 5ms/step - loss: 0.1779 - accuracy: 0.9273 - auc: 0.9567 - val_loss: 0.1866 - val_accuracy: 0.9276 - val_auc: 0.9524\n",
            "Epoch 9/50\n",
            "625/625 [==============================] - 3s 5ms/step - loss: 0.1779 - accuracy: 0.9275 - auc: 0.9573 - val_loss: 0.1819 - val_accuracy: 0.9280 - val_auc: 0.9526\n",
            "Epoch 10/50\n",
            "625/625 [==============================] - 3s 5ms/step - loss: 0.1781 - accuracy: 0.9284 - auc: 0.9583 - val_loss: 0.1725 - val_accuracy: 0.9316 - val_auc: 0.9527\n",
            "Epoch 11/50\n",
            "625/625 [==============================] - 3s 5ms/step - loss: 0.1791 - accuracy: 0.9278 - auc: 0.9584 - val_loss: 0.1732 - val_accuracy: 0.9319 - val_auc: 0.9528\n",
            "Epoch 12/50\n",
            "625/625 [==============================] - 3s 5ms/step - loss: 0.1734 - accuracy: 0.9292 - auc: 0.9588 - val_loss: 0.1900 - val_accuracy: 0.9233 - val_auc: 0.9529\n",
            "Epoch 13/50\n",
            "625/625 [==============================] - 3s 5ms/step - loss: 0.1749 - accuracy: 0.9285 - auc: 0.9594 - val_loss: 0.1752 - val_accuracy: 0.9330 - val_auc: 0.9543\n",
            "Epoch 14/50\n",
            "625/625 [==============================] - 3s 5ms/step - loss: 0.1732 - accuracy: 0.9292 - auc: 0.9598 - val_loss: 0.1700 - val_accuracy: 0.9319 - val_auc: 0.9544\n",
            "Epoch 15/50\n",
            "625/625 [==============================] - 3s 5ms/step - loss: 0.1711 - accuracy: 0.9305 - auc: 0.9600 - val_loss: 0.1797 - val_accuracy: 0.9274 - val_auc: 0.9538\n",
            "Epoch 16/50\n",
            "625/625 [==============================] - 3s 5ms/step - loss: 0.1744 - accuracy: 0.9291 - auc: 0.9602 - val_loss: 0.1838 - val_accuracy: 0.9273 - val_auc: 0.9545\n",
            "Epoch 17/50\n",
            "625/625 [==============================] - 3s 5ms/step - loss: 0.1687 - accuracy: 0.9317 - auc: 0.9608 - val_loss: 0.1664 - val_accuracy: 0.9340 - val_auc: 0.9553\n",
            "Epoch 18/50\n",
            "625/625 [==============================] - 3s 5ms/step - loss: 0.1671 - accuracy: 0.9317 - auc: 0.9609 - val_loss: 0.1685 - val_accuracy: 0.9316 - val_auc: 0.9559\n",
            "Epoch 19/50\n",
            "625/625 [==============================] - 3s 5ms/step - loss: 0.1668 - accuracy: 0.9317 - auc: 0.9613 - val_loss: 0.1971 - val_accuracy: 0.9215 - val_auc: 0.9562\n",
            "Epoch 20/50\n",
            "625/625 [==============================] - 3s 5ms/step - loss: 0.1674 - accuracy: 0.9321 - auc: 0.9616 - val_loss: 0.1668 - val_accuracy: 0.9350 - val_auc: 0.9560\n",
            "Epoch 21/50\n",
            "625/625 [==============================] - 3s 5ms/step - loss: 0.1674 - accuracy: 0.9319 - auc: 0.9617 - val_loss: 0.1827 - val_accuracy: 0.9233 - val_auc: 0.9533\n",
            "Epoch 22/50\n",
            "625/625 [==============================] - 3s 5ms/step - loss: 0.1670 - accuracy: 0.9322 - auc: 0.9618 - val_loss: 0.1694 - val_accuracy: 0.9320 - val_auc: 0.9564\n"
          ]
        }
      ],
      "source": [
        "model.compile(optimizer=tf.keras.optimizers.Adam(),\n",
        "              loss = 'binary_crossentropy',\n",
        "              metrics = ['accuracy', auc])\n",
        "\n",
        "hist = model.fit(X_train_pooled_output, y_train, epochs=50, batch_size=128,\n",
        "                 validation_data=[X_test_pooled_output, y_test],\n",
        "                 callbacks = callbacks)"
      ]
    },
    {
      "cell_type": "code",
      "execution_count": null,
      "metadata": {
        "id": "ef_lLw5RO1oO"
      },
      "outputs": [],
      "source": [
        "%load_ext tensorboard\n",
        "%tensorboard --logdir=/content/model/tb_logs/13H12M08S"
      ]
    },
    {
      "attachments": {},
      "cell_type": "markdown",
      "metadata": {
        "id": "wJrz7UQTuYON"
      },
      "source": [
        "![image.png](data:image/png;base64,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)\n",
        "![image.png](data:image/png;base64,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)\n",
        "\n",
        "![image.png](data:image/png;base64,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)"
      ]
    },
    {
      "attachments": {},
      "cell_type": "markdown",
      "metadata": {
        "id": "-yR-eJ1YlwK8"
      },
      "source": [
        "By analyzing above plots and training logs, model state at 17th epoch is chosen as best model."
      ]
    },
    {
      "cell_type": "code",
      "execution_count": 55,
      "metadata": {
        "id": "EenR9wLBmeqZ"
      },
      "outputs": [],
      "source": [
        "from tensorflow.keras.models import load_model\n",
        "best_model = load_model('/content/model/saved_models/epoch_17_val_auc_0.9553.hdf5',\n",
        "                        custom_objects={'auc': auc})"
      ]
    },
    {
      "cell_type": "code",
      "execution_count": 57,
      "metadata": {
        "colab": {
          "base_uri": "https://localhost:8080/"
        },
        "id": "N3nD7kQavtmW",
        "outputId": "2725a360-fd34-40ac-da6f-4f65aa4a5a75"
      },
      "outputs": [
        {
          "name": "stdout",
          "output_type": "stream",
          "text": [
            "157/157 [==============================] - 1s 5ms/step - loss: 0.1664 - accuracy: 0.9340 - auc: 0.9553\n"
          ]
        }
      ],
      "source": [
        "eval = best_model.evaluate(X_test_pooled_output, y_test, batch_size=128)"
      ]
    },
    {
      "cell_type": "code",
      "execution_count": 59,
      "metadata": {
        "colab": {
          "base_uri": "https://localhost:8080/"
        },
        "id": "rOOQjEekwP1l",
        "outputId": "0b886652-8965-4ade-8515-735ce47cab71"
      },
      "outputs": [
        {
          "name": "stdout",
          "output_type": "stream",
          "text": [
            "Best Model Parameters: \n",
            "Val_loss : 0.1664\n",
            "Val_accuracy : 0.934\n",
            "Val_auc : 0.9553\n"
          ]
        }
      ],
      "source": [
        "print(\"Best Model Parameters: \")\n",
        "print(f\"Val_loss : {np.round(eval[0], 4)}\")\n",
        "print(f\"Val_accuracy : {np.round(eval[1], 4)}\")\n",
        "print(f\"Val_auc : {np.round(eval[2], 4)}\")"
      ]
    },
    {
      "attachments": {},
      "cell_type": "markdown",
      "metadata": {
        "id": "kcILeYZI9pxm"
      },
      "source": [
        "<Pre><font size=6>Part-6: Creating a Data pipeline for BERT Model</font> \n",
        "1. Pipeline is a way to codify and automate the workflow.\n",
        "2. Download the test.csv file from here <a href=\"https://drive.google.com/file/d/1QwjqTsqTX2vdy7fTmeXjxP3dq8IAVLpo/view?usp=sharing\">here</a> </pre>\n"
      ]
    },
    {
      "cell_type": "code",
      "execution_count": null,
      "metadata": {
        "id": "_74n3sgFjvlM"
      },
      "outputs": [],
      "source": [
        "#there is an alterante way to load files from Google drive directly to your Colab session\n",
        "# you can use gdown module to import the files as follows\n",
        "#for example for test.csv you can write your code as !gdown --id file_id (remove the # from next line and run it)"
      ]
    },
    {
      "cell_type": "code",
      "execution_count": 60,
      "metadata": {
        "colab": {
          "base_uri": "https://localhost:8080/"
        },
        "id": "kwv_BIV9xWt7",
        "outputId": "f0c55a01-8b03-4cd0-b0f6-9948ca7da15f"
      },
      "outputs": [
        {
          "name": "stdout",
          "output_type": "stream",
          "text": [
            "/usr/local/lib/python3.7/dist-packages/gdown/cli.py:131: FutureWarning: Option `--id` was deprecated in version 4.3.1 and will be removed in 5.0. You don't need to pass it anymore to use a file ID.\n",
            "  category=FutureWarning,\n",
            "Downloading...\n",
            "From: https://drive.google.com/uc?id=1QwjqTsqTX2vdy7fTmeXjxP3dq8IAVLpo\n",
            "To: /content/test.csv\n",
            "100% 62.1k/62.1k [00:00<00:00, 78.5MB/s]\n"
          ]
        }
      ],
      "source": [
        "!gdown --id 1QwjqTsqTX2vdy7fTmeXjxP3dq8IAVLpo"
      ]
    },
    {
      "cell_type": "code",
      "execution_count": 61,
      "metadata": {
        "id": "lQcoHbUKjgvF"
      },
      "outputs": [],
      "source": [
        "#read the csv file\n",
        "test_df= pd.read_csv('test.csv')"
      ]
    },
    {
      "cell_type": "code",
      "execution_count": 70,
      "metadata": {
        "id": "g9g6C_kgjcan"
      },
      "outputs": [],
      "source": [
        "# Creating Pipeline\n",
        "def predict_review_sentiment(data, model, max_seq_length=55):\n",
        "\n",
        "    # Removing html tags\n",
        "    text_data = data.Text.apply(remove_html)\n",
        "\n",
        "    # Tokenizing\n",
        "    tokenizer=tokenization.FullTokenizer(vocab_file,do_lower_case)\n",
        "    text_tokens = [tokenizer.tokenize(sent) for sent in text_data]\n",
        "\n",
        "    # Pad, mask, segment tokens\n",
        "    text_tokens, text_mask, text_segment = add_special_tokens_and_mask(text_tokens, max_seq_length=max_seq_length)\n",
        "\n",
        "    # Getting bert encodings\n",
        "    X_test = bert_model.predict([text_tokens, text_mask, text_segment])\n",
        "    print(f\"X_test shape: {X_test.shape}\")\n",
        "\n",
        "    # Predicting review sentiment\n",
        "    preds = model.predict(X_test)\n",
        "    def get_label(ar):\n",
        "        for i, l in enumerate(ar):\n",
        "            if l >= 0.5:\n",
        "                ar[i] = 1\n",
        "            else:\n",
        "                ar[i] = 0\n",
        "        return ar\n",
        "    \n",
        "    preds = get_label(preds)\n",
        "    \n",
        "    return preds"
      ]
    },
    {
      "cell_type": "code",
      "execution_count": 71,
      "metadata": {
        "colab": {
          "base_uri": "https://localhost:8080/"
        },
        "id": "mDgazGMO4uIW",
        "outputId": "d3dba058-8995-4886-adae-a09440827df9"
      },
      "outputs": [
        {
          "name": "stdout",
          "output_type": "stream",
          "text": [
            "X_test shape: (352, 768)\n"
          ]
        }
      ],
      "source": [
        "predictions = predict_review_sentiment(test_df, model=best_model)"
      ]
    },
    {
      "cell_type": "code",
      "execution_count": 73,
      "metadata": {
        "colab": {
          "base_uri": "https://localhost:8080/"
        },
        "id": "wnzDMTSB5uK_",
        "outputId": "cb09645d-2315-4e1a-8182-cb64086ec14f"
      },
      "outputs": [
        {
          "name": "stdout",
          "output_type": "stream",
          "text": [
            "[[0.]\n",
            " [1.]\n",
            " [0.]\n",
            " [1.]\n",
            " [1.]]\n"
          ]
        }
      ],
      "source": [
        "print(predictions[0:5])"
      ]
    },
    {
      "cell_type": "code",
      "execution_count": 78,
      "metadata": {
        "colab": {
          "base_uri": "https://localhost:8080/"
        },
        "id": "yt3MnDwiEHY7",
        "outputId": "ee6dd29d-431e-44c1-dcd9-c8ab747dd47c"
      },
      "outputs": [
        {
          "name": "stdout",
          "output_type": "stream",
          "text": [
            "+----------------------------------------------------------------------------------------------------------------------------------------------------------------------------------------------------------------------------------------------------------------+------------------+\n",
            "| Review Text                                                                                                                                                                                                                                                    | Model Prediction |\n",
            "+----------------------------------------------------------------------------------------------------------------------------------------------------------------------------------------------------------------------------------------------------------------+------------------+\n",
            "| Just opened Greenies Joint Care (individually sealed) in December 2011 and found small worm crawling all over it.  Next one looked fine, but really supposed to trust these now?                                                                               | [0.]             |\n",
            "| This product rocks :) My mom was very happy w/the product it was excatly as described we loved seeing all the candy and eating it all :)                                                                                                                       | [1.]             |\n",
            "| The product was fine, but the cost of shipping was more than the cost<br />of the tea.  Won't make that mistake again.                                                                                                                                         | [0.]             |\n",
            "| I love this soup. It's great as part of a meal or as a nutritious and satisifying low-in-calorie snack. For a light lunch, I stir in some shreeded cheese.                                                                                                     | [1.]             |\n",
            "| Getting ready to order again. These are great because they compost very quickly. BUT, some of the bags have tears in the bottom, so remember to always carry extra so you have emergency 'back-up' bags!  A bit costly but, again, better for the environment. | [1.]             |\n",
            "+----------------------------------------------------------------------------------------------------------------------------------------------------------------------------------------------------------------------------------------------------------------+------------------+\n",
            "Model Prediction [0.] : Negative Review \n",
            "Model Prediction [1.] : Positive Review \n"
          ]
        }
      ],
      "source": [
        "# Verifying predictions for first 5 test reviews\n",
        "from prettytable import PrettyTable\n",
        "table = PrettyTable(field_names=['Review Text', 'Model Prediction'], align='l')\n",
        "table.add_rows([[text, pred] for text, pred in zip(test_df['Text'].values[0:5], predictions[0:5])])\n",
        "\n",
        "print(table)\n",
        "print(\"Model Prediction [0.] : Negative Review \")\n",
        "print(\"Model Prediction [1.] : Positive Review \")"
      ]
    },
    {
      "attachments": {},
      "cell_type": "markdown",
      "metadata": {
        "id": "_WdeDb1pF9h9"
      },
      "source": [
        "From above examples we can say that our model is giving correct sentiments about the reviews. "
      ]
    },
    {
      "attachments": {},
      "cell_type": "markdown",
      "metadata": {
        "id": "mvz_0hbKhGd9"
      },
      "source": [
        "**Assignment Objective :** To use Transfer Learning based on BERT Encodings to classify the given review as positive or negative.\n",
        "\n",
        "**Steps Followed :**\n",
        "\n",
        "1. Getting the reviews text data and their labels.\n",
        "2. Cleaning (preprocessing) the review text by removing html tokens present (if any) in the review text.\n",
        "3. Tokenizing the review text by using Tokenizer class in the tokenization.py file.\n",
        "4. Adding BERT special tokens like [CLS], [SEP], [PAD] to the text tokens and converting them into token IDs. Also creating mask_input and segment_input arrays for each sequence of tokens.\n",
        "5. Creating pretrained bert model using tf.hub and keras layer.\n",
        "6. Giving 3 inputs, token_ids, mask_input and segment_input to bert model and getting predicted 768 dimensional BERT encodings corresponding to the [CLS] token for each input.\n",
        "7. A simple feed forward neural network with dense layers and sigmoid activation output with input as BERT 768 dimensional encodings and corresponding labels is trained.\n",
        "8. This dense model is used to predict the review sentiment as positive [1] or  negative [0]."
      ]
    }
  ],
  "metadata": {
    "accelerator": "GPU",
    "colab": {
      "collapsed_sections": [],
      "machine_shape": "hm",
      "name": "28.NLP_Transfer_Learning.ipynb",
      "provenance": []
    },
    "gpuClass": "standard",
    "kernelspec": {
      "display_name": "Python 3",
      "language": "python",
      "name": "python3"
    },
    "language_info": {
      "codemirror_mode": {
        "name": "ipython",
        "version": 3
      },
      "file_extension": ".py",
      "mimetype": "text/x-python",
      "name": "python",
      "nbconvert_exporter": "python",
      "pygments_lexer": "ipython3",
      "version": "3.6.9"
    }
  },
  "nbformat": 4,
  "nbformat_minor": 0
}
